{
  "nbformat": 4,
  "nbformat_minor": 0,
  "metadata": {
    "colab": {
      "provenance": []
    },
    "kernelspec": {
      "name": "python3",
      "display_name": "Python 3"
    },
    "language_info": {
      "name": "python"
    }
  },
  "cells": [
    {
      "cell_type": "code",
      "execution_count": 1,
      "metadata": {
        "id": "MDo09j2MaFyt"
      },
      "outputs": [],
      "source": [
        "from google.colab import drive"
      ]
    },
    {
      "cell_type": "code",
      "source": [
        "drive.mount('/content/gdrive')"
      ],
      "metadata": {
        "id": "xpVOpDOqaX6d"
      },
      "execution_count": null,
      "outputs": []
    },
    {
      "cell_type": "code",
      "source": [
        "import pandas as pd\n",
        "import numpy as np\n",
        "from scipy.cluster.hierarchy import dendrogram, linkage\n",
        "import matplotlib.pyplot as plt"
      ],
      "metadata": {
        "id": "TXoPxPlKacO7"
      },
      "execution_count": 11,
      "outputs": []
    },
    {
      "cell_type": "code",
      "source": [
        "data = pd.read_excel(r'/content/gdrive/My Drive/Colab Notebooks/ЛР3 ПАД_Исходные данные_Бухов.xlsx')\n",
        "data.head(6)"
      ],
      "metadata": {
        "id": "1Qn47NigagkT"
      },
      "execution_count": null,
      "outputs": []
    },
    {
      "cell_type": "code",
      "source": [
        "# Нормирование данных (Z-нормализация)\n",
        "mean = np.mean(data, axis=0)\n",
        "dev = np.std(data, axis=0)\n",
        "norm_data = (data - mean) / dev\n",
        "\n",
        "norm_data.head()"
      ],
      "metadata": {
        "id": "rXHsw2pJxVJ_"
      },
      "execution_count": null,
      "outputs": []
    },
    {
      "cell_type": "code",
      "source": [
        "#Дендрограммы для каждого из 3-х типов связей\n",
        "linkage_methods_arr = ['single', 'complete', 'average'] #ближайший сосед, дальний сосед, расстояние между центрами кластеров\n",
        "for method in linkage_methods_arr:\n",
        "  D = linkage(norm_data, method=method)\n",
        "  plt.figure(figsize=(20, 5))\n",
        "  dendrogram(D)\n",
        "  plt.title(f'Иерархическая кластеризация, метод - {method}')\n",
        "  plt.xlabel('Номер объекта')\n",
        "  plt.ylabel('Расстояние')\n",
        "  plt.show()"
      ],
      "metadata": {
        "id": "nR3NbAUW0UX8"
      },
      "execution_count": null,
      "outputs": []
    },
    {
      "cell_type": "code",
      "source": [
        "from sklearn.cluster import AgglomerativeClustering\n",
        "#Получение итоговых меток кластера для каждого объекта\n",
        "m = AgglomerativeClustering(n_clusters=4, linkage='complete')\n",
        "labels = m.fit_predict(norm_data)\n",
        "print(labels)"
      ],
      "metadata": {
        "colab": {
          "base_uri": "https://localhost:8080/"
        },
        "id": "BC7AGZ8KkQoB",
        "outputId": "ba62bf3b-65be-46bf-eccb-f088bdb2af5d"
      },
      "execution_count": 12,
      "outputs": [
        {
          "output_type": "stream",
          "name": "stdout",
          "text": [
            "[0 0 0 0 0 0 0 0 0 0 3 0 0 0 0 0 0 0 0 0 0 0 0 1 0 0 0 0 0 0 0 1 1 0 0 0 1\n",
            " 0 0 2 0 0 0 0 0 0 0]\n"
          ]
        }
      ]
    },
    {
      "cell_type": "code",
      "source": [
        "from sklearn.metrics import davies_bouldin_score\n",
        "from sklearn.cluster import KMeans\n",
        "from sklearn.model_selection import GridSearchCV\n",
        "#Функция расчета индекса Дэвиса-Болдина\n",
        "def boldin_scorer(estimator, Data):\n",
        "  estimator.fit(Data)\n",
        "  return davies_bouldin_score(Data, estimator.labels_)\n",
        "\n",
        "#Задаем сетку перебора\n",
        "kmeans = KMeans(n_init=10)\n",
        "param_grid = {'n_clusters' : range(2, 9)}\n",
        "grid_search = GridSearchCV(kmeans, param_grid, scoring = boldin_scorer)\n",
        "\n",
        "#Перебираем по сетке\n",
        "grid_search.fit(norm_data)\n",
        "\n",
        "#Находим оптимальное число кластеров\n",
        "optimal_clasters_number = grid_search.best_params_['n_clusters']\n",
        "print('Оптимальное число кластеров: ', optimal_clasters_number)\n",
        "\n",
        "#Находим kmeans для оптимального числа кластеров\n",
        "best_kmeans = KMeans(n_init=10, n_clusters=optimal_clasters_number)\n",
        "\n",
        "#Находим метки\n",
        "kmeans_labels = best_kmeans.fit_predict(norm_data)\n",
        "print('Метки кластеров: ', kmeans_labels)\n",
        "\n"
      ],
      "metadata": {
        "colab": {
          "base_uri": "https://localhost:8080/"
        },
        "id": "2vr4GTn0sAYD",
        "outputId": "3f0cb75b-4e26-4683-dc8f-25f377221eab"
      },
      "execution_count": 18,
      "outputs": [
        {
          "output_type": "stream",
          "name": "stdout",
          "text": [
            "Оптимальное число кластеров:  3\n",
            "Метки кластеров:  [1 2 2 2 1 1 1 1 1 1 1 1 1 1 1 1 1 1 1 1 1 1 1 0 2 1 1 1 1 1 2 0 0 2 2 2 0\n",
            " 2 2 2 2 2 2 2 2 2 1]\n"
          ]
        }
      ]
    },
    {
      "cell_type": "code",
      "source": [
        "from sklearn.metrics import rand_score\n",
        "#Расчитываем индекс Рэнда двух полученных моделей\n",
        "rand_index = rand_score(kmeans_labels, labels) #labels - метки для дальнего соседа\n",
        "print(rand_index)"
      ],
      "metadata": {
        "colab": {
          "base_uri": "https://localhost:8080/"
        },
        "id": "Rw3x_i7d13WP",
        "outputId": "c2b7d7e8-713b-45e0-b677-4c6b1002a55e"
      },
      "execution_count": 19,
      "outputs": [
        {
          "output_type": "stream",
          "name": "stdout",
          "text": [
            "0.5920444033302498\n"
          ]
        }
      ]
    },
    {
      "cell_type": "code",
      "source": [
        "clusters_data = norm_data.copy()\n",
        "clusters_data['Cluster'] = kmeans_labels\n",
        "cluster_means = clusters_data.groupby('Cluster').mean()\n",
        "print(cluster_means)"
      ],
      "metadata": {
        "colab": {
          "base_uri": "https://localhost:8080/"
        },
        "id": "QlxtIkpr-5ro",
        "outputId": "3fcd7e98-9725-447a-c6f1-8d608c223289"
      },
      "execution_count": 20,
      "outputs": [
        {
          "output_type": "stream",
          "name": "stdout",
          "text": [
            "               х1        х2        х3        х4        х5        х6        x7  \\\n",
            "Cluster                                                                         \n",
            "0        2.251718 -0.705718 -0.983481 -1.492615  0.308362 -1.159806 -1.218018   \n",
            "1       -0.489067  0.615531  0.294335  0.015934 -0.400075  0.182768 -0.210947   \n",
            "2        0.218170 -0.775349 -0.218752  0.326834  0.539324 -0.006632  0.609217   \n",
            "\n",
            "               x8        x9  \n",
            "Cluster                      \n",
            "0        2.887118  0.697045  \n",
            "1       -0.277574 -0.453689  \n",
            "2       -0.254797  0.529867  \n"
          ]
        }
      ]
    }
  ]
}